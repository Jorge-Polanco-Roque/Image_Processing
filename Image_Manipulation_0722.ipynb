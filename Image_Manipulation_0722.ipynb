{
 "cells": [
  {
   "cell_type": "markdown",
   "id": "7bf5b73f",
   "metadata": {},
   "source": [
    "# Image Manipulation"
   ]
  },
  {
   "cell_type": "markdown",
   "id": "9b1d7576",
   "metadata": {},
   "source": [
    "**Date**: 0722\n",
    "\n",
    "**Documentation**: \n",
    "* Step #1:\n",
    "    - https://www.geeksforgeeks.org/overlay-an-image-on-another-image-in-python/\n",
    "    - https://auth0.com/blog/image-processing-in-python-with-pillow/"
   ]
  },
  {
   "cell_type": "markdown",
   "id": "ae935af7",
   "metadata": {},
   "source": [
    "**Objetive**: Create a fake content database, which will be used to train our logo classification model. 🤖📷"
   ]
  },
  {
   "cell_type": "markdown",
   "id": "a31732fd",
   "metadata": {},
   "source": [
    "________________________________________________________"
   ]
  },
  {
   "cell_type": "markdown",
   "id": "0b02a1cf",
   "metadata": {},
   "source": [
    "### **Step #1** - Create some combinations of images using several elements."
   ]
  },
  {
   "cell_type": "code",
   "execution_count": 1,
   "id": "ec89d1aa",
   "metadata": {},
   "outputs": [],
   "source": [
    "#pip install pillow"
   ]
  },
  {
   "cell_type": "code",
   "execution_count": 2,
   "id": "3273929d",
   "metadata": {},
   "outputs": [],
   "source": [
    "# libraries\n",
    "from itertools import combinations\n",
    "from PIL import Image\n",
    "import pandas as pd\n",
    "import itertools\n",
    "import os,sys"
   ]
  },
  {
   "cell_type": "code",
   "execution_count": 3,
   "id": "eee35ee1",
   "metadata": {},
   "outputs": [],
   "source": [
    "# paths\n",
    "path_logos = \"/Users/jpolanco/Desktop/Scripts/Jupyter/Image Manipulation/logos/\"\n",
    "path_bg = \"/Users/jpolanco/Desktop/Scripts/Jupyter/Image Manipulation/background/\"\n",
    "path_output = \"/Users/jpolanco/Desktop/Scripts/Jupyter/Image Manipulation/output/\""
   ]
  },
  {
   "cell_type": "code",
   "execution_count": 4,
   "id": "ab004abb",
   "metadata": {},
   "outputs": [
    {
     "data": {
      "text/html": [
       "<div>\n",
       "<style scoped>\n",
       "    .dataframe tbody tr th:only-of-type {\n",
       "        vertical-align: middle;\n",
       "    }\n",
       "\n",
       "    .dataframe tbody tr th {\n",
       "        vertical-align: top;\n",
       "    }\n",
       "\n",
       "    .dataframe thead th {\n",
       "        text-align: right;\n",
       "    }\n",
       "</style>\n",
       "<table border=\"1\" class=\"dataframe\">\n",
       "  <thead>\n",
       "    <tr style=\"text-align: right;\">\n",
       "      <th></th>\n",
       "      <th>file</th>\n",
       "    </tr>\n",
       "  </thead>\n",
       "  <tbody>\n",
       "    <tr>\n",
       "      <th>0</th>\n",
       "      <td>elektra_logo.png</td>\n",
       "    </tr>\n",
       "    <tr>\n",
       "      <th>1</th>\n",
       "      <td>bancoazteca_logo.png</td>\n",
       "    </tr>\n",
       "  </tbody>\n",
       "</table>\n",
       "</div>"
      ],
      "text/plain": [
       "                   file\n",
       "0      elektra_logo.png\n",
       "1  bancoazteca_logo.png"
      ]
     },
     "execution_count": 4,
     "metadata": {},
     "output_type": "execute_result"
    }
   ],
   "source": [
    "# files in the logo folder\n",
    "files_logo = os.listdir(path_logos)\n",
    "files_logo = pd.DataFrame({\"file\":files_logo})\n",
    "\n",
    "# Important!\n",
    "files_logo = files_logo.loc[files_logo['file'] != '.DS_store']\n",
    "\n",
    "files_logo.head()"
   ]
  },
  {
   "cell_type": "code",
   "execution_count": 5,
   "id": "0cb79b30",
   "metadata": {},
   "outputs": [
    {
     "data": {
      "text/html": [
       "<div>\n",
       "<style scoped>\n",
       "    .dataframe tbody tr th:only-of-type {\n",
       "        vertical-align: middle;\n",
       "    }\n",
       "\n",
       "    .dataframe tbody tr th {\n",
       "        vertical-align: top;\n",
       "    }\n",
       "\n",
       "    .dataframe thead th {\n",
       "        text-align: right;\n",
       "    }\n",
       "</style>\n",
       "<table border=\"1\" class=\"dataframe\">\n",
       "  <thead>\n",
       "    <tr style=\"text-align: right;\">\n",
       "      <th></th>\n",
       "      <th>file</th>\n",
       "    </tr>\n",
       "  </thead>\n",
       "  <tbody>\n",
       "    <tr>\n",
       "      <th>0</th>\n",
       "      <td>bg_3.jpeg</td>\n",
       "    </tr>\n",
       "    <tr>\n",
       "      <th>1</th>\n",
       "      <td>bg_2.jpeg</td>\n",
       "    </tr>\n",
       "    <tr>\n",
       "      <th>2</th>\n",
       "      <td>bg_1.jpeg</td>\n",
       "    </tr>\n",
       "  </tbody>\n",
       "</table>\n",
       "</div>"
      ],
      "text/plain": [
       "        file\n",
       "0  bg_3.jpeg\n",
       "1  bg_2.jpeg\n",
       "2  bg_1.jpeg"
      ]
     },
     "execution_count": 5,
     "metadata": {},
     "output_type": "execute_result"
    }
   ],
   "source": [
    "# files in the background folder\n",
    "files_bg = os.listdir(path_bg)\n",
    "files_bg = pd.DataFrame({\"file\":files_bg})\n",
    "\n",
    "# Important!\n",
    "files_bg = files_bg.loc[files_bg['file'] != '.DS_store']\n",
    "\n",
    "files_bg.head()"
   ]
  },
  {
   "cell_type": "code",
   "execution_count": 6,
   "id": "cb2179e3",
   "metadata": {},
   "outputs": [],
   "source": [
    "# Positions of logos\n",
    "lista_pos = [\n",
    "    (0, 0), (0, 100), (0, 200), (0, 300),\n",
    "    (100, 0), (100, 100), (100, 200), (100, 300),\n",
    "    (200, 0), (200, 100), (200, 200), (200, 300),\n",
    "    (300, 0), (300, 100),(300, 200),(300, 300)]"
   ]
  },
  {
   "cell_type": "code",
   "execution_count": 7,
   "id": "badcde7b",
   "metadata": {},
   "outputs": [
    {
     "name": "stdout",
     "output_type": "stream",
     "text": [
      "===============\n",
      "Total:  96\n"
     ]
    }
   ],
   "source": [
    "# Combinations...so far\n",
    "a = list(range(1,len(files_logo)+1))\n",
    "b = list(range(1,len(files_bg)+1))\n",
    "c = list(range(1,len(lista_pos)+1))\n",
    "\n",
    "listOLists = [a,b,c]\n",
    "l_c = []\n",
    "\n",
    "for l in itertools.product(*listOLists):\n",
    "    l_c.append(l)\n",
    "    #print(l)\n",
    "\n",
    "print(\"===============\")\n",
    "print(\"Total: \",len(l_c))"
   ]
  },
  {
   "cell_type": "code",
   "execution_count": 8,
   "id": "d7964e58",
   "metadata": {},
   "outputs": [
    {
     "name": "stdout",
     "output_type": "stream",
     "text": [
      "elektra_logo.png\n",
      "bg_3.jpeg\n",
      "bg_2.jpeg\n",
      "bg_1.jpeg\n",
      "bancoazteca_logo.png\n",
      "bg_3.jpeg\n",
      "bg_2.jpeg\n",
      "bg_1.jpeg\n"
     ]
    }
   ],
   "source": [
    "n = 0\n",
    "m = 0\n",
    "\n",
    "for x in files_logo[\"file\"].unique().tolist():\n",
    "    print(x)\n",
    "        \n",
    "    for y in files_bg[\"file\"].unique().tolist():\n",
    "        print(y)\n",
    "        \n",
    "        n += 1\n",
    "        \n",
    "        for z in lista_pos:\n",
    "            #print(z)\n",
    "            img1 = Image.open(path_logos+x).convert(\"RGBA\")\n",
    "            \n",
    "            img2 = Image.open(path_bg+y).convert(\"RGBA\")\n",
    "            #img2 = img2.convert(\"P\", palette=Image.ADAPTIVE, colors=100)\n",
    "            \n",
    "            # Is always going to be (400,400)?\n",
    "            img2 = img2.resize((400, 400))\n",
    "        \n",
    "            # Opening the secondary image (overlay image)\n",
    "            img1 = img1.resize((int(img2.size[0]*.2), int(img2.size[1]*.2)))\n",
    "            \n",
    "            # x,y position should be relative to the image size\n",
    "            img2.paste(img1, z, mask = img1)\n",
    "            \n",
    "            m += 1\n",
    "            \n",
    "            img2.save(path_output+'output_'+ str(n) + \"_\" + str(m) +'.png', optimize=True)\n",
    "            "
   ]
  },
  {
   "cell_type": "code",
   "execution_count": null,
   "id": "c8cdc827",
   "metadata": {},
   "outputs": [],
   "source": []
  },
  {
   "cell_type": "code",
   "execution_count": null,
   "id": "eb5101a9",
   "metadata": {},
   "outputs": [],
   "source": []
  },
  {
   "cell_type": "code",
   "execution_count": null,
   "id": "b5dea2da",
   "metadata": {},
   "outputs": [],
   "source": []
  },
  {
   "cell_type": "code",
   "execution_count": null,
   "id": "6aac251b",
   "metadata": {},
   "outputs": [],
   "source": []
  },
  {
   "cell_type": "code",
   "execution_count": null,
   "id": "d54a39fa",
   "metadata": {},
   "outputs": [],
   "source": []
  },
  {
   "cell_type": "code",
   "execution_count": null,
   "id": "3c7f13ed",
   "metadata": {},
   "outputs": [],
   "source": []
  },
  {
   "cell_type": "code",
   "execution_count": null,
   "id": "707ce614",
   "metadata": {},
   "outputs": [],
   "source": []
  },
  {
   "cell_type": "code",
   "execution_count": null,
   "id": "8d01caf6",
   "metadata": {},
   "outputs": [],
   "source": []
  },
  {
   "cell_type": "code",
   "execution_count": null,
   "id": "90c1c2be",
   "metadata": {},
   "outputs": [],
   "source": []
  },
  {
   "cell_type": "code",
   "execution_count": null,
   "id": "37d2036f",
   "metadata": {},
   "outputs": [],
   "source": []
  },
  {
   "cell_type": "code",
   "execution_count": null,
   "id": "095c338d",
   "metadata": {},
   "outputs": [],
   "source": []
  },
  {
   "cell_type": "code",
   "execution_count": null,
   "id": "1214df30",
   "metadata": {},
   "outputs": [],
   "source": []
  },
  {
   "cell_type": "code",
   "execution_count": null,
   "id": "e3a61544",
   "metadata": {},
   "outputs": [],
   "source": []
  },
  {
   "cell_type": "code",
   "execution_count": null,
   "id": "29de016f",
   "metadata": {},
   "outputs": [],
   "source": []
  }
 ],
 "metadata": {
  "kernelspec": {
   "display_name": "Python 3 (ipykernel)",
   "language": "python",
   "name": "python3"
  },
  "language_info": {
   "codemirror_mode": {
    "name": "ipython",
    "version": 3
   },
   "file_extension": ".py",
   "mimetype": "text/x-python",
   "name": "python",
   "nbconvert_exporter": "python",
   "pygments_lexer": "ipython3",
   "version": "3.9.12"
  }
 },
 "nbformat": 4,
 "nbformat_minor": 5
}

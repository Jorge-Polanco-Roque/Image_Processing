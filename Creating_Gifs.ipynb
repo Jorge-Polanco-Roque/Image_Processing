{
 "cells": [
  {
   "cell_type": "markdown",
   "id": "8371bc54",
   "metadata": {},
   "source": [
    "# Creating Gifs"
   ]
  },
  {
   "cell_type": "markdown",
   "id": "98662845",
   "metadata": {},
   "source": [
    "**Date**: 150323"
   ]
  },
  {
   "cell_type": "code",
   "execution_count": 3,
   "id": "07debaa2",
   "metadata": {},
   "outputs": [],
   "source": [
    "from PIL import Image\n",
    "import pandas as pd\n",
    "import glob\n",
    "import os"
   ]
  },
  {
   "cell_type": "code",
   "execution_count": 21,
   "id": "d737d7ce",
   "metadata": {},
   "outputs": [],
   "source": [
    "encode = 'ISO-8859-16'\n",
    "path = '/Users/jpolanco/stable-diffusion-webui/outputs/txt2img-images/2023-03-14/'"
   ]
  },
  {
   "cell_type": "code",
   "execution_count": 4,
   "id": "0ca68b5a",
   "metadata": {},
   "outputs": [
    {
     "data": {
      "text/html": [
       "<div>\n",
       "<style scoped>\n",
       "    .dataframe tbody tr th:only-of-type {\n",
       "        vertical-align: middle;\n",
       "    }\n",
       "\n",
       "    .dataframe tbody tr th {\n",
       "        vertical-align: top;\n",
       "    }\n",
       "\n",
       "    .dataframe thead th {\n",
       "        text-align: right;\n",
       "    }\n",
       "</style>\n",
       "<table border=\"1\" class=\"dataframe\">\n",
       "  <thead>\n",
       "    <tr style=\"text-align: right;\">\n",
       "      <th></th>\n",
       "      <th>file</th>\n",
       "    </tr>\n",
       "  </thead>\n",
       "  <tbody>\n",
       "    <tr>\n",
       "      <th>1</th>\n",
       "      <td>995.png</td>\n",
       "    </tr>\n",
       "    <tr>\n",
       "      <th>5</th>\n",
       "      <td>996.png</td>\n",
       "    </tr>\n",
       "    <tr>\n",
       "      <th>2</th>\n",
       "      <td>997.png</td>\n",
       "    </tr>\n",
       "    <tr>\n",
       "      <th>21</th>\n",
       "      <td>998.png</td>\n",
       "    </tr>\n",
       "    <tr>\n",
       "      <th>22</th>\n",
       "      <td>999.png</td>\n",
       "    </tr>\n",
       "  </tbody>\n",
       "</table>\n",
       "</div>"
      ],
      "text/plain": [
       "       file\n",
       "1   995.png\n",
       "5   996.png\n",
       "2   997.png\n",
       "21  998.png\n",
       "22  999.png"
      ]
     },
     "execution_count": 4,
     "metadata": {},
     "output_type": "execute_result"
    }
   ],
   "source": [
    "# Archivos disponibles\n",
    "files = os.listdir(path)\n",
    "files = pd.DataFrame({\"file\":files})\n",
    "files = files.loc[files['file'] != '.DS_Store']\n",
    "\n",
    "files = files.sort_values(by='file', ascending=True)\n",
    "\n",
    "files.tail()"
   ]
  },
  {
   "cell_type": "code",
   "execution_count": 22,
   "id": "5bd90e25",
   "metadata": {},
   "outputs": [],
   "source": [
    "def make_gif(frame_folder):\n",
    "    frames = [Image.open(image) for image in glob.glob(f\"{frame_folder}/*.png\")]\n",
    "    frame_one = frames[0]\n",
    "    frame_one.save(\"gif_1.gif\", format=\"GIF\", append_images=frames,\n",
    "               save_all=True, duration=100, loop=0)"
   ]
  },
  {
   "cell_type": "code",
   "execution_count": 23,
   "id": "28625379",
   "metadata": {},
   "outputs": [],
   "source": [
    "if __name__ == \"__main__\":\n",
    "    make_gif(path)"
   ]
  },
  {
   "cell_type": "code",
   "execution_count": null,
   "id": "5095e06f",
   "metadata": {},
   "outputs": [],
   "source": []
  }
 ],
 "metadata": {
  "kernelspec": {
   "display_name": "Python 3 (ipykernel)",
   "language": "python",
   "name": "python3"
  },
  "language_info": {
   "codemirror_mode": {
    "name": "ipython",
    "version": 3
   },
   "file_extension": ".py",
   "mimetype": "text/x-python",
   "name": "python",
   "nbconvert_exporter": "python",
   "pygments_lexer": "ipython3",
   "version": "3.9.12"
  }
 },
 "nbformat": 4,
 "nbformat_minor": 5
}

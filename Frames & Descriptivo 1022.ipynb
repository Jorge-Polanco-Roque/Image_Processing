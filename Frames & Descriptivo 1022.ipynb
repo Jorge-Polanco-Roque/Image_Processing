{
 "cells": [
  {
   "cell_type": "markdown",
   "id": "3f2c6b9c",
   "metadata": {},
   "source": [
    "# Frames & Descriptivo 1022"
   ]
  },
  {
   "cell_type": "code",
   "execution_count": 1,
   "id": "d9164fbd",
   "metadata": {},
   "outputs": [],
   "source": [
    "from moviepy.editor import VideoFileClip\n",
    "import moviepy.editor as mp\n",
    "import pandas as pd\n",
    "import numpy as np\n",
    "import wave\n",
    "import cv2\n",
    "import os"
   ]
  },
  {
   "cell_type": "markdown",
   "id": "d63b1bd3",
   "metadata": {},
   "source": [
    "### 1) Downloading videos"
   ]
  },
  {
   "cell_type": "markdown",
   "id": "3eacb8c5",
   "metadata": {},
   "source": [
    "**NOTA**: ESTA SECCIÓN SÓLO APLICA PARA LAS PRUEBAS, YA QUE SE ESPERARÍA QUE NOS COMPARTAN LOS ARCHIVOS, NO TENDRÍAMOS QUE BAJARLOS DE YOUTUBE."
   ]
  },
  {
   "cell_type": "code",
   "execution_count": 2,
   "id": "68eff77e",
   "metadata": {},
   "outputs": [],
   "source": [
    "import youtube_dl"
   ]
  },
  {
   "cell_type": "code",
   "execution_count": 3,
   "id": "99b1ac4c",
   "metadata": {},
   "outputs": [
    {
     "name": "stdout",
     "output_type": "stream",
     "text": [
      "['https://www.youtube.com/watch?v=tBcY30EUvqQ&ab_channel=BancoAzteca']\n"
     ]
    }
   ],
   "source": [
    "# Creating a diccionary of tv commercials\n",
    "d_1 = {\n",
    "       \"logo\":\"https://www.youtube.com/watch?v=tBcY30EUvqQ&ab_channel=BancoAzteca\"\n",
    "        #\"no_audio\": \"https://www.youtube.com/watch?v=IsgM7HjEVKU&ab_channel=HaVeaNiCeDaY\"\n",
    "      }\n",
    "\n",
    "links_1 = []\n",
    "\n",
    "for key in d_1:\n",
    "    links_1.append(d_1[key])\n",
    "\n",
    "print(links_1)"
   ]
  },
  {
   "cell_type": "code",
   "execution_count": 4,
   "id": "a5d5de5c",
   "metadata": {},
   "outputs": [],
   "source": [
    "# Creando carpetas\n",
    "path_videos = os.path.join(os.getcwd(), \"video_original\")\n",
    "os.mkdir(path_videos)\n",
    "\n",
    "path_cut = os.path.join(os.getcwd(), \"video_cut\")\n",
    "os.mkdir(path_cut)\n",
    "\n",
    "path_frames = os.path.join(os.getcwd(), \"frames\")\n",
    "os.mkdir(path_frames)\n",
    "\n",
    "path_audios = os.path.join(os.getcwd(), \"audios\")\n",
    "os.mkdir(path_audios)"
   ]
  },
  {
   "cell_type": "code",
   "execution_count": 5,
   "id": "d2f961f9",
   "metadata": {},
   "outputs": [],
   "source": [
    "# Changing the directory\n",
    "os.chdir(path_videos)"
   ]
  },
  {
   "cell_type": "code",
   "execution_count": 6,
   "id": "6be5ebeb",
   "metadata": {},
   "outputs": [
    {
     "name": "stdout",
     "output_type": "stream",
     "text": [
      ">>> Cargando la liga:  https://www.youtube.com/watch?v=tBcY30EUvqQ&ab_channel=BancoAzteca ..... 100.00 %\n",
      "[youtube] tBcY30EUvqQ: Downloading webpage\n",
      "[download] Destination: Protege tus datos. Aguas, ¡Ponte Atento!-tBcY30EUvqQ.mp4\n",
      "[download] 100% of 2.72MiB in 00:4407KiB/s ETA 00:004\n"
     ]
    }
   ],
   "source": [
    "# Downloading the videos\n",
    "for i in links_1:\n",
    "    print(\">>> Cargando la liga: \",i,\".....\",\n",
    "          \"{:.2f}\".format(round(((links_1.index(i)+1)/(len(links_1))),2)*100),\"%\")\n",
    "    \n",
    "    ydl_opt = {}\n",
    "\n",
    "    with youtube_dl.YoutubeDL(ydl_opt) as ydl:\n",
    "        ydl.download([i])"
   ]
  },
  {
   "cell_type": "markdown",
   "id": "61c14748",
   "metadata": {},
   "source": [
    "____________________________________________________________"
   ]
  },
  {
   "cell_type": "markdown",
   "id": "2d2dab72",
   "metadata": {},
   "source": [
    "### 2) Descriptivo del contenido"
   ]
  },
  {
   "cell_type": "code",
   "execution_count": 7,
   "id": "db1453c8",
   "metadata": {},
   "outputs": [],
   "source": [
    "# Changing the directory\n",
    "#os.chdir(path_audios)"
   ]
  },
  {
   "cell_type": "code",
   "execution_count": 8,
   "id": "4c574830",
   "metadata": {},
   "outputs": [],
   "source": [
    "def with_moviepy(filename):\n",
    "    clip = VideoFileClip(filename)\n",
    "    duration      = clip.duration\n",
    "    fps            = clip.fps\n",
    "    width, height  = clip.size\n",
    "    \n",
    "    return duration, fps, (width, height)"
   ]
  },
  {
   "cell_type": "code",
   "execution_count": 9,
   "id": "325f67af",
   "metadata": {},
   "outputs": [
    {
     "name": "stdout",
     "output_type": "stream",
     "text": [
      "MoviePy - Writing audio in /Users/jpolanco/Desktop/Algorithia/Creative Standards/Prueba_Frames 1022/audios/audio.wav\n"
     ]
    },
    {
     "name": "stderr",
     "output_type": "stream",
     "text": [
      "                                                                                                                                                                                                            "
     ]
    },
    {
     "name": "stdout",
     "output_type": "stream",
     "text": [
      "MoviePy - Done.\n"
     ]
    },
    {
     "name": "stderr",
     "output_type": "stream",
     "text": [
      "\r"
     ]
    }
   ],
   "source": [
    "# Análisis de audio\n",
    "\n",
    "# Descargando el audio del video\n",
    "my_clip = mp.VideoFileClip(path_videos + \"/\" + os.listdir(path_videos)[0])\n",
    "my_clip.audio.write_audiofile(path_audios + \"/\" + \"audio.wav\")\n",
    "\n",
    "# Abriendo el audio\n",
    "wav_obj = wave.open(path_audios + \"/\" + \"audio.wav\", 'rb')\n",
    "\n",
    "# Métricas de las ondas del audio\n",
    "sample_freq = wav_obj.getframerate()\n",
    "n_samples = wav_obj.getnframes()\n",
    "\n",
    "t_audio = n_samples/sample_freq\n",
    "n_channels = wav_obj.getnchannels()\n",
    "signal_wave = wav_obj.readframes(n_samples)\n",
    "\n",
    "signal_array = np.frombuffer(signal_wave, dtype=np.int16)\n",
    "\n",
    "l_channel = signal_array[0::2]\n",
    "r_channel = signal_array[1::2]\n",
    "\n",
    "times = np.linspace(0, n_samples/sample_freq, num=n_samples)"
   ]
  },
  {
   "cell_type": "code",
   "execution_count": 10,
   "id": "f4d74faf",
   "metadata": {},
   "outputs": [],
   "source": [
    "# Condicionales del análisis\n",
    "def color_sec(val):\n",
    "    if val > 30:\n",
    "        color = 'red'\n",
    "    \n",
    "    elif val < 5:\n",
    "        color = 'red'\n",
    "    \n",
    "    else:\n",
    "        color = 'green'\n",
    "    return 'background: %s' % color\n",
    "\n",
    "\n",
    "def color_audio(val):\n",
    "    if val == \"Yes\":\n",
    "        color = 'green'\n",
    "        \n",
    "    else:\n",
    "        color = 'red'\n",
    "    return 'background: %s' % color\n"
   ]
  },
  {
   "cell_type": "code",
   "execution_count": 11,
   "id": "dc9dd337",
   "metadata": {},
   "outputs": [
    {
     "data": {
      "text/html": [
       "<style type=\"text/css\">\n",
       "#T_67af0_row0_col0 {\n",
       "  background: red;\n",
       "}\n",
       "#T_67af0_row0_col3 {\n",
       "  background: green;\n",
       "}\n",
       "</style>\n",
       "<table id=\"T_67af0\">\n",
       "  <thead>\n",
       "    <tr>\n",
       "      <th class=\"blank level0\" >&nbsp;</th>\n",
       "      <th id=\"T_67af0_level0_col0\" class=\"col_heading level0 col0\" >Duration (sec)</th>\n",
       "      <th id=\"T_67af0_level0_col1\" class=\"col_heading level0 col1\" >Frames per seconds</th>\n",
       "      <th id=\"T_67af0_level0_col2\" class=\"col_heading level0 col2\" >(Width, Height)</th>\n",
       "      <th id=\"T_67af0_level0_col3\" class=\"col_heading level0 col3\" >Audio</th>\n",
       "    </tr>\n",
       "  </thead>\n",
       "  <tbody>\n",
       "    <tr>\n",
       "      <th id=\"T_67af0_level0_row0\" class=\"row_heading level0 row0\" >0</th>\n",
       "      <td id=\"T_67af0_row0_col0\" class=\"data row0 col0\" >30.950000</td>\n",
       "      <td id=\"T_67af0_row0_col1\" class=\"data row0 col1\" >23.940000</td>\n",
       "      <td id=\"T_67af0_row0_col2\" class=\"data row0 col2\" >(1280, 720)</td>\n",
       "      <td id=\"T_67af0_row0_col3\" class=\"data row0 col3\" >Yes</td>\n",
       "    </tr>\n",
       "  </tbody>\n",
       "</table>\n"
      ],
      "text/plain": [
       "<pandas.io.formats.style.Styler at 0x7f806005b9a0>"
      ]
     },
     "execution_count": 11,
     "metadata": {},
     "output_type": "execute_result"
    }
   ],
   "source": [
    "# Reporte final\n",
    "resumen = pd.DataFrame(with_moviepy(path_videos + \"/\" + os.listdir(path_videos)[0])).T\n",
    "resumen.columns = [\"Duration (sec)\", \"Frames per seconds\", \"(Width, Height)\"]\n",
    "resumen['Audio'] = 'Yes' if abs(signal_array.mean()) > 0 else 'No'\n",
    " \n",
    "resumen.style.applymap(color_sec, subset=['Duration (sec)']).applymap(color_audio, subset=['Audio'])"
   ]
  },
  {
   "cell_type": "markdown",
   "id": "cd806113",
   "metadata": {},
   "source": [
    "____________________________________________________________"
   ]
  },
  {
   "cell_type": "markdown",
   "id": "9c297aea",
   "metadata": {},
   "source": [
    "### 3) Framing videos"
   ]
  },
  {
   "cell_type": "code",
   "execution_count": 12,
   "id": "fe0003d0",
   "metadata": {},
   "outputs": [],
   "source": [
    "# Changing the directory\n",
    "os.chdir(path_frames)"
   ]
  },
  {
   "cell_type": "code",
   "execution_count": 13,
   "id": "8a98b4da",
   "metadata": {},
   "outputs": [
    {
     "name": "stdout",
     "output_type": "stream",
     "text": [
      "/Users/jpolanco/Desktop/Algorithia/Creative Standards/Prueba_Frames 1022/frames\n"
     ]
    }
   ],
   "source": [
    "print(path_frames)"
   ]
  },
  {
   "cell_type": "code",
   "execution_count": 14,
   "id": "667b4a7b",
   "metadata": {},
   "outputs": [
    {
     "data": {
      "text/html": [
       "<div>\n",
       "<style scoped>\n",
       "    .dataframe tbody tr th:only-of-type {\n",
       "        vertical-align: middle;\n",
       "    }\n",
       "\n",
       "    .dataframe tbody tr th {\n",
       "        vertical-align: top;\n",
       "    }\n",
       "\n",
       "    .dataframe thead th {\n",
       "        text-align: right;\n",
       "    }\n",
       "</style>\n",
       "<table border=\"1\" class=\"dataframe\">\n",
       "  <thead>\n",
       "    <tr style=\"text-align: right;\">\n",
       "      <th></th>\n",
       "      <th>file</th>\n",
       "    </tr>\n",
       "  </thead>\n",
       "  <tbody>\n",
       "    <tr>\n",
       "      <th>0</th>\n",
       "      <td>Protege tus datos. Aguas, ¡Ponte Atento!-tBcY3...</td>\n",
       "    </tr>\n",
       "  </tbody>\n",
       "</table>\n",
       "</div>"
      ],
      "text/plain": [
       "                                                file\n",
       "0  Protege tus datos. Aguas, ¡Ponte Atento!-tBcY3..."
      ]
     },
     "execution_count": 14,
     "metadata": {},
     "output_type": "execute_result"
    }
   ],
   "source": [
    "# files in the background folder\n",
    "files_videos = os.listdir(path_videos)\n",
    "files_videos = pd.DataFrame({\"file\":files_videos})\n",
    "\n",
    "# Important!\n",
    "files_videos = files_videos.loc[files_videos['file'] != '.DS_Store']\n",
    "\n",
    "files_videos.head()"
   ]
  },
  {
   "cell_type": "code",
   "execution_count": 15,
   "id": "355ad3d3",
   "metadata": {},
   "outputs": [
    {
     "name": "stdout",
     "output_type": "stream",
     "text": [
      "Moviepy - Building video /Users/jpolanco/Desktop/Algorithia/Creative Standards/Prueba_Frames 1022/video_cut/video_cut_Protege tus datos. Aguas, ¡Ponte Atento!-tBcY30EUvqQ.mp4.\n",
      "MoviePy - Writing audio in video_cut_Protege tus datos. Aguas, ¡Ponte Atento!-tBcY30EUvqQTEMP_MPY_wvf_snd.mp3\n"
     ]
    },
    {
     "name": "stderr",
     "output_type": "stream",
     "text": [
      "                                                                                                                                                                                                            \r"
     ]
    },
    {
     "name": "stdout",
     "output_type": "stream",
     "text": [
      "MoviePy - Done.\n",
      "Moviepy - Writing video /Users/jpolanco/Desktop/Algorithia/Creative Standards/Prueba_Frames 1022/video_cut/video_cut_Protege tus datos. Aguas, ¡Ponte Atento!-tBcY30EUvqQ.mp4\n",
      "\n"
     ]
    },
    {
     "name": "stderr",
     "output_type": "stream",
     "text": [
      "                                                                                                                                                                                                            \r"
     ]
    },
    {
     "name": "stdout",
     "output_type": "stream",
     "text": [
      "Moviepy - Done !\n",
      "Moviepy - video ready /Users/jpolanco/Desktop/Algorithia/Creative Standards/Prueba_Frames 1022/video_cut/video_cut_Protege tus datos. Aguas, ¡Ponte Atento!-tBcY30EUvqQ.mp4\n"
     ]
    }
   ],
   "source": [
    "clip = VideoFileClip(path_videos + \"/\" +files_videos.iloc[0,0])\n",
    "clip = clip.subclip(0, 5)\n",
    "#vid = clip\n",
    "#clip.ipython_display(width = 360)\n",
    "clip.write_videofile(path_cut+\"/video_cut_\"+files_videos.iloc[0,0])"
   ]
  },
  {
   "cell_type": "code",
   "execution_count": 16,
   "id": "86e4e36d",
   "metadata": {},
   "outputs": [
    {
     "name": "stdout",
     "output_type": "stream",
     "text": [
      "video_cut_Protege tus datos. Aguas, ¡Ponte Atento!-tBcY30EUvqQ.mp4\n"
     ]
    }
   ],
   "source": [
    "vid_list = os.listdir(path_cut)\n",
    "\n",
    "for i in vid_list:\n",
    "    print(i)\n",
    "    \n",
    "    #vid = cv2.VideoCapture(path_videos+\"/\"+i)\n"
   ]
  },
  {
   "cell_type": "code",
   "execution_count": 17,
   "id": "05577764",
   "metadata": {},
   "outputs": [
    {
     "data": {
      "text/html": [
       "<div>\n",
       "<style scoped>\n",
       "    .dataframe tbody tr th:only-of-type {\n",
       "        vertical-align: middle;\n",
       "    }\n",
       "\n",
       "    .dataframe tbody tr th {\n",
       "        vertical-align: top;\n",
       "    }\n",
       "\n",
       "    .dataframe thead th {\n",
       "        text-align: right;\n",
       "    }\n",
       "</style>\n",
       "<table border=\"1\" class=\"dataframe\">\n",
       "  <thead>\n",
       "    <tr style=\"text-align: right;\">\n",
       "      <th></th>\n",
       "      <th>file</th>\n",
       "    </tr>\n",
       "  </thead>\n",
       "  <tbody>\n",
       "    <tr>\n",
       "      <th>0</th>\n",
       "      <td>video_cut_Protege tus datos. Aguas, ¡Ponte Ate...</td>\n",
       "    </tr>\n",
       "  </tbody>\n",
       "</table>\n",
       "</div>"
      ],
      "text/plain": [
       "                                                file\n",
       "0  video_cut_Protege tus datos. Aguas, ¡Ponte Ate..."
      ]
     },
     "execution_count": 17,
     "metadata": {},
     "output_type": "execute_result"
    }
   ],
   "source": [
    "# files in the background folder\n",
    "files_cut = os.listdir(path_cut)\n",
    "files_cut = pd.DataFrame({\"file\":files_cut})\n",
    "\n",
    "# Important!\n",
    "files_cut = files_cut.loc[files_cut['file'] != '.DS_Store']\n",
    "\n",
    "files_cut.head()"
   ]
  },
  {
   "cell_type": "code",
   "execution_count": 18,
   "id": "07a973ed",
   "metadata": {},
   "outputs": [
    {
     "name": "stdout",
     "output_type": "stream",
     "text": [
      "Creating.../Users/jpolanco/Desktop/Algorithia/Creative Standards/Prueba_Frames 1022/frames/0video_cut_Protege tus datos. Aguas, ¡Ponte Atento!-tBcY30EUvqQ.mp4.jpg\n",
      "Creating.../Users/jpolanco/Desktop/Algorithia/Creative Standards/Prueba_Frames 1022/frames/30video_cut_Protege tus datos. Aguas, ¡Ponte Atento!-tBcY30EUvqQ.mp4.jpg\n",
      "Creating.../Users/jpolanco/Desktop/Algorithia/Creative Standards/Prueba_Frames 1022/frames/60video_cut_Protege tus datos. Aguas, ¡Ponte Atento!-tBcY30EUvqQ.mp4.jpg\n",
      "Creating.../Users/jpolanco/Desktop/Algorithia/Creative Standards/Prueba_Frames 1022/frames/90video_cut_Protege tus datos. Aguas, ¡Ponte Atento!-tBcY30EUvqQ.mp4.jpg\n"
     ]
    }
   ],
   "source": [
    "vid = cv2.VideoCapture(path_cut+ \"/\" + files_cut.iloc[0,0])\n",
    "\n",
    "currentframe = 0\n",
    "\n",
    "while (True):\n",
    "\n",
    "    success, frame = vid.read()\n",
    "    \n",
    "    if success:\n",
    "        name = path_frames + \"/\" + str(currentframe) + str(i) + '.jpg'\n",
    "        print('Creating...' + name)\n",
    "\n",
    "        cv2.imwrite(name, frame)\n",
    "\n",
    "        currentframe += 30\n",
    "        vid.set(1, currentframe)\n",
    "        \n",
    "    else:\n",
    "        break\n",
    "\n",
    "vid.release()\n",
    "cv2.destroyAllWindows()\n"
   ]
  },
  {
   "cell_type": "code",
   "execution_count": null,
   "id": "ad3348a9",
   "metadata": {},
   "outputs": [],
   "source": []
  },
  {
   "cell_type": "code",
   "execution_count": null,
   "id": "15c78733",
   "metadata": {},
   "outputs": [],
   "source": []
  },
  {
   "cell_type": "code",
   "execution_count": null,
   "id": "8e94a79d",
   "metadata": {},
   "outputs": [],
   "source": []
  }
 ],
 "metadata": {
  "kernelspec": {
   "display_name": "Python 3 (ipykernel)",
   "language": "python",
   "name": "python3"
  },
  "language_info": {
   "codemirror_mode": {
    "name": "ipython",
    "version": 3
   },
   "file_extension": ".py",
   "mimetype": "text/x-python",
   "name": "python",
   "nbconvert_exporter": "python",
   "pygments_lexer": "ipython3",
   "version": "3.9.12"
  }
 },
 "nbformat": 4,
 "nbformat_minor": 5
}
